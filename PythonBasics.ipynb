{
  "nbformat": 4,
  "nbformat_minor": 0,
  "metadata": {
    "colab": {
      "provenance": [],
      "include_colab_link": true
    },
    "kernelspec": {
      "name": "python3",
      "display_name": "Python 3"
    },
    "language_info": {
      "name": "python"
    }
  },
  "cells": [
    {
      "cell_type": "markdown",
      "metadata": {
        "id": "view-in-github",
        "colab_type": "text"
      },
      "source": [
        "<a href=\"https://colab.research.google.com/github/taylan-sen/IntroPython/blob/main/PythonBasics.ipynb\" target=\"_parent\"><img src=\"https://colab.research.google.com/assets/colab-badge.svg\" alt=\"Open In Colab\"/></a>"
      ]
    },
    {
      "cell_type": "code",
      "execution_count": null,
      "metadata": {
        "colab": {
          "base_uri": "https://localhost:8080/"
        },
        "id": "CUEUpDZY7l2A",
        "outputId": "d35fae70-9d9f-4713-ab92-c4ddc6fd3ffa"
      },
      "outputs": [
        {
          "output_type": "stream",
          "name": "stdout",
          "text": [
            "Hello World!\n"
          ]
        }
      ],
      "source": [
        "print('Hello World!')"
      ]
    },
    {
      "cell_type": "markdown",
      "source": [
        "### This Notebook Shows Python Basics\n",
        "\n",
        "The hash symbol # can be used to create a comment in python, text which is ignored when running the program, but useful for documentation.  \n",
        "\n",
        "Most programming languages have several built-in data types.  \n",
        "\n",
        "**Python Primitive Datatypes**\n",
        "* int\n",
        "* str\n",
        "* float\n",
        "* bool\n",
        "\n",
        "\n"
      ],
      "metadata": {
        "id": "t9If8bRM9On5"
      }
    },
    {
      "cell_type": "code",
      "source": [
        "x = 5           # int\n",
        "s = 'hello'     # str\n",
        "temp = 98.6     # float\n",
        "iAmSam = False  # bool"
      ],
      "metadata": {
        "id": "V4_Z3rv08Gw_"
      },
      "execution_count": null,
      "outputs": []
    },
    {
      "cell_type": "markdown",
      "source": [
        "\n",
        "**Python Collection Types**\n",
        "* list - ordered, indexed, like an array, mutable\n",
        "* tuple - immutable list\n",
        "* dict - a hashtable, a set of key,value data pairs\n"
      ],
      "metadata": {
        "id": "mFNUx5_c_WDU"
      }
    },
    {
      "cell_type": "code",
      "source": [
        "my_list = ['I', 'love', 'CIS']\n",
        "my_list2 = [3, 'hello', 'frogs', 4.3, True]\n",
        "my_tuple = ('Purple', 'Eagles')\n",
        "\n",
        "example_dict = {'triangle':3, 'square':4, 'septagon':7}\n",
        "example_dict['decagon'] = 10\n",
        "print(example_dict['septagon'])"
      ],
      "metadata": {
        "id": "zbqwAY2I_XvL"
      },
      "execution_count": null,
      "outputs": []
    }
  ]
}